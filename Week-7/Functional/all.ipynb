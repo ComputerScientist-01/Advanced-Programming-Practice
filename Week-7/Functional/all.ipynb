{
 "cells": [
  {
   "cell_type": "markdown",
   "metadata": {},
   "source": [
    "## Functional Programming\n",
    "\n",
    "### Question 1\n",
    "\n",
    "a. T AND F"
   ]
  },
  {
   "cell_type": "code",
   "execution_count": 4,
   "metadata": {},
   "outputs": [
    {
     "name": "stdout",
     "output_type": "stream",
     "text": [
      "0.0017857142857142857\n"
     ]
    }
   ],
   "source": [
    "time = lambda f: 1/f\n",
    "freq = 560 #hz\n",
    "print(time(freq))"
   ]
  },
  {
   "cell_type": "markdown",
   "metadata": {},
   "source": [
    "b. 3*4"
   ]
  },
  {
   "cell_type": "code",
   "execution_count": 30,
   "metadata": {},
   "outputs": [
    {
     "name": "stdout",
     "output_type": "stream",
     "text": [
      "12\n"
     ]
    }
   ],
   "source": [
    "calc = lambda a, b: a*b\n",
    "print(calc(3,4))"
   ]
  },
  {
   "cell_type": "markdown",
   "metadata": {},
   "source": [
    "## Question 2\n",
    "\n",
    "a. Write a lambda function to convert measurements from meters to feet."
   ]
  },
  {
   "cell_type": "code",
   "execution_count": 11,
   "metadata": {},
   "outputs": [
    {
     "name": "stdout",
     "output_type": "stream",
     "text": [
      "Enter the number of meters to be converted: 5\n",
      "16.41 feet\n"
     ]
    }
   ],
   "source": [
    "feet = lambda m: m*(3.281)\n",
    "meters = int(input(\"Enter the number of meters to be converted: \"))\n",
    "print(\"{:0.2f} feet\".format(feet(meters)))"
   ]
  },
  {
   "cell_type": "markdown",
   "metadata": {},
   "source": [
    "b. Write a lambda function in Python to implement the following lambda expression: ```(λf.λm. (f+m)a)(λx.x^2)(b)```<br> \n",
    "\n",
    "Note: You need to write a nested lambda function for implementing f+m where f takes the square function (which takes argument x) passed as a parameter. The above expression calculates ```a^2+b```."
   ]
  },
  {
   "cell_type": "code",
   "execution_count": 17,
   "metadata": {},
   "outputs": [
    {
     "name": "stdout",
     "output_type": "stream",
     "text": [
      "Enter value for a: 5\n",
      "Enter value for b: 6\n",
      "31\n"
     ]
    }
   ],
   "source": [
    "square = lambda x: x**2\n",
    "total = lambda f, b: lambda a: f(a)+b\n",
    "a = int(input(\"Enter value for a: \"))\n",
    "b = int(input(\"Enter value for b: \"))\n",
    "print(total(square, b)(a))"
   ]
  },
  {
   "cell_type": "markdown",
   "metadata": {},
   "source": [
    "## Question 3\n",
    "\n",
    "Define a function ‘square’ for squaring a number. Define a function named ‘twice’ that takes a function f as an argument and returns f(f(x)). Using ‘twice’ and ‘square’ create a function ‘quad’ that takes n as an argument and returns n^4 . ‘quad’ should not be defined explicitly. It should only be created as a variable which is then assigned a function."
   ]
  },
  {
   "cell_type": "code",
   "execution_count": 19,
   "metadata": {},
   "outputs": [
    {
     "name": "stdout",
     "output_type": "stream",
     "text": [
      "Enter a number: 2\n",
      "16\n"
     ]
    }
   ],
   "source": [
    "def square(n):\n",
    "    n = n**2\n",
    "    return n\n",
    "\n",
    "def twice(f):\n",
    "    return square(f)\n",
    "\n",
    "n = int(input(\"Enter a number: \"))\n",
    "quad = twice(square(n))\n",
    "print(quad)"
   ]
  },
  {
   "cell_type": "markdown",
   "metadata": {},
   "source": [
    "## Question 4\n",
    "\n",
    "A Closure is a function object that remembers values in enclosing scopes even if they are not present in memory. We have a closure in Python when a nested function references a value in its enclosing scope.\n",
    "\n",
    "a. Study the following program and execute it:"
   ]
  },
  {
   "cell_type": "code",
   "execution_count": 20,
   "metadata": {},
   "outputs": [
    {
     "name": "stdout",
     "output_type": "stream",
     "text": [
      "45\n"
     ]
    }
   ],
   "source": [
    "def multiplier_of(n):\n",
    "    def multiplier(number):\n",
    "        return number*n\n",
    "    return multiplier\n",
    "\n",
    "multiplywith5 = multiplier_of(5)\n",
    "print(multiplywith5(9))"
   ]
  },
  {
   "cell_type": "markdown",
   "metadata": {},
   "source": [
    "b. In a lottery system, random number is chosen by retrieving the number from a random index from a list of random numbers. Write a program to choose a random number in this way. You must use nested functions – the inner function chooses a\n",
    "number from a random index and the outer function generates a random list of numbers. The outer function takes n as a parameter where is the maximum number that can be put in the random list. (Your code should be similar to the program in\n",
    "4a)"
   ]
  },
  {
   "cell_type": "code",
   "execution_count": 28,
   "metadata": {},
   "outputs": [
    {
     "name": "stdout",
     "output_type": "stream",
     "text": [
      "Enter a random number: 20\n",
      "Random number generated is: 12\n"
     ]
    }
   ],
   "source": [
    "import random\n",
    "def outer(n):\n",
    "    lst = random.sample(range(0,n+1), n)\n",
    "    def inner():\n",
    "        ind = random.randrange(0, n)\n",
    "        return lst[ind]\n",
    "    return inner\n",
    "\n",
    "n = int(input(\"Enter a random number: \"))\n",
    "pick_number = outer(n)\n",
    "print(\"Random number generated is: {}\".format(pick_number()))"
   ]
  },
  {
   "cell_type": "markdown",
   "metadata": {},
   "source": [
    "## Question 6\n",
    "\n",
    "A secret message needs to be sent. Use the map function to encrypt the message using Caesar cipher."
   ]
  },
  {
   "cell_type": "code",
   "execution_count": 78,
   "metadata": {},
   "outputs": [
    {
     "name": "stdout",
     "output_type": "stream",
     "text": [
      "Enter the word: hello, I'm Priyanka\n",
      "Enter the shift: 3\n",
      "Encrypted text: khoorc Lxp Sulbdqnd"
     ]
    }
   ],
   "source": [
    "def encrypt(letter, s):\n",
    "    if (letter.isupper()):\n",
    "        return chr((ord(letter) + s - 65) % 26 + 65)\n",
    "    elif (letter.islower()):\n",
    "        return chr((ord(letter) + s - 97) % 26 + 97)\n",
    "    else:\n",
    "        return letter\n",
    "\n",
    "text = input(\"Enter the word: \")\n",
    "s = int(input(\"Enter the shift: \"))\n",
    "shift = [s] * len(text)\n",
    "result = list(map(encrypt, text, shift))\n",
    "\n",
    "print(\"Encrypted text: \", end=\"\")\n",
    "for i in result:\n",
    "    print(i, end=\"\")"
   ]
  },
  {
   "cell_type": "markdown",
   "metadata": {},
   "source": [
    "## Question 7\n",
    "\n",
    "Given runs scored by 2 players in a series of matches, write a Python program using reduce() function to find who is the better player of the two in terms of maintaining consistency. (You need to find SD)."
   ]
  },
  {
   "cell_type": "code",
   "execution_count": 89,
   "metadata": {},
   "outputs": [
    {
     "name": "stdout",
     "output_type": "stream",
     "text": [
      "Player 2 is more consistent.\n"
     ]
    }
   ],
   "source": [
    "import functools\n",
    "import operator\n",
    "\n",
    "player1 = [100, 20, 50, 66, 72, 32]\n",
    "player2 = [56, 65, 78, 45, 33, 69]\n",
    "\n",
    "mean1 = (functools.reduce(operator.add, player1)) / len(player1)\n",
    "mean2 = (functools.reduce(operator.add, player2)) / len(player2)\n",
    "\n",
    "m1 = [mean1] * len(player1)\n",
    "m2 = [mean2] * len(player2)\n",
    "\n",
    "def variance(p, m):\n",
    "    var = p - m\n",
    "    return var**2\n",
    "    \n",
    "sqvar1 = list(map(variance, player1, m1))\n",
    "sqvar2 = list(map(variance, player2, m2))\n",
    "\n",
    "var1 = (functools.reduce(operator.add, sqvar1)) / len(sqvar1)\n",
    "var2 = (functools.reduce(operator.add, sqvar2)) / len(sqvar2)\n",
    "\n",
    "sd1 = var1**0.5\n",
    "sd2 = var2**0.5\n",
    "\n",
    "if sd1 == sd2:\n",
    "    print(\"Both players are consistent.\")\n",
    "elif sd1 > sd2:\n",
    "    print(\"Player 2 is more consistent.\")\n",
    "else:\n",
    "    print(\"Player 1 is more consistent.\")"
   ]
  },
  {
   "cell_type": "markdown",
   "metadata": {},
   "source": [
    "## Question 8\n",
    "\n",
    "The marks scored by a class of students in 5 different subjects are stored in a list of lists. Using the filter function, write a program to find the students who failed in one or more subjects."
   ]
  },
  {
   "cell_type": "code",
   "execution_count": 117,
   "metadata": {},
   "outputs": [
    {
     "name": "stdout",
     "output_type": "stream",
     "text": [
      "Student #2 failed in at least one subject.\n",
      "Student #3 failed in at least one subject.\n"
     ]
    }
   ],
   "source": [
    "marks = [[88, 77, 66, 77, 99],[56, 78, 31, 35, 54],[53, 71, 64, 56, 14]]\n",
    "\n",
    "def fail(marks):\n",
    "    for i in marks:\n",
    "        if i < 40:\n",
    "            return True\n",
    "\n",
    "result = filter(fail, marks)\n",
    "res = list(result)\n",
    "for i in range(0, len(marks)):\n",
    "    if marks[i] in res:\n",
    "        print(\"Student #{} failed in at least one subject.\".format(i+1))"
   ]
  },
  {
   "cell_type": "markdown",
   "metadata": {},
   "source": [
    "## Question 9\n",
    "\n",
    "Given two trending topics and a bunch of tweets, write a Python program to count the number of tweets that contain each topic. You need to do this by putting together map(), reduce() and filter() functions."
   ]
  },
  {
   "cell_type": "code",
   "execution_count": 147,
   "metadata": {},
   "outputs": [
    {
     "name": "stdout",
     "output_type": "stream",
     "text": [
      "IPL tweets: 4\n",
      "COVID19 tweets: 4\n"
     ]
    }
   ],
   "source": [
    "import functools\n",
    "import operator\n",
    "\n",
    "tweets = [\"First ever player to score 6000 runs in #IPL - Just another day at the ‘office’ for #ViratKohli!\",\n",
    "          \"My ⁦@rajasthanroyals outfit has arrived! Now to be well enough to wear it....Thanks ⁦@IamSanjuSamson & the RR management! All the best for the rest of the #IPL!\",\n",
    "         \"How amazing that both the centuries in this year’s #IPL have been scored by Malayalis, when Kerala has so long been regarded as a cricketing backwater!\",\n",
    "         \"Most 10-wicket wins in IPL: 4 - RCB, 2 - MI, 2 - SRH, 2 - CSK #RCBvsRR #RCB #RR #IPL #IPL2021 #CricTracker\",\n",
    "         \"India would have never eliminated polio, if people had to BUY polio vaccines. Same logic applies for #COVID19\",\n",
    "         \"The Ontario Science Table @COVIDSciOntario has recommended that 50% of all available vaccines go to hotspot neighbourhoods with the highest rates of #COVID19. RT if you agree the Ontario government should immediately do this to save lives.\",\n",
    "         \"UPA home minister resigned after terror attack on Mumbai. Why doesn’t NDA health minister resign for this #COVID19 mess? I would prefer Modi to resign as buck stops at him.But being thick skinned, he won’t!\",\n",
    "         \"Khalsa Aid India arranges Oxygen concentrators for COVID-19 patients, will deliver them in Delhi. #COVID19\"]\n",
    "\n",
    "ipl = [\"#ipl\"] * len(tweets)\n",
    "covid = [\"#covid19\"] * len(tweets)\n",
    "\n",
    "def segregate_tweets(lst, topic):\n",
    "    if topic in lst.lower():\n",
    "        return lst\n",
    "\n",
    "resultipl = list(map(segregate_tweets, tweets, ipl))\n",
    "resultcovid = list(map(segregate_tweets, tweets, covid))\n",
    "\n",
    "def filter_list(lst):\n",
    "    if lst != \"\":\n",
    "        return lst\n",
    "\n",
    "result_ipl = list(filter(filter_list, resultipl))\n",
    "result_covid = list(filter(filter_list, resultcovid))\n",
    "\n",
    "print(\"IPL tweets: {}\".format(len(result_ipl)))\n",
    "print(\"COVID19 tweets: {}\".format(len(result_covid)))"
   ]
  },
  {
   "cell_type": "code",
   "execution_count": null,
   "metadata": {},
   "outputs": [],
   "source": []
  }
 ],
 "metadata": {
  "kernelspec": {
   "display_name": "Python 3",
   "language": "python",
   "name": "python3"
  },
  "language_info": {
   "codemirror_mode": {
    "name": "ipython",
    "version": 3
   },
   "file_extension": ".py",
   "mimetype": "text/x-python",
   "name": "python",
   "nbconvert_exporter": "python",
   "pygments_lexer": "ipython3",
   "version": "3.8.5"
  }
 },
 "nbformat": 4,
 "nbformat_minor": 4
}