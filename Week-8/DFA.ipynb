{
 "cells": [
  {
   "cell_type": "markdown",
   "metadata": {},
   "source": [
    "# DFA PROGRAMS:\n",
    "1. Write a automata code for the Language that accepts all and only those strings thatcontain 001\n",
    "2. Write a automata code for L(M) ={ w | w has an even number of 1s}\n",
    "3. Write a automata code for L(M) ={0,1}*\n",
    "4. Write a automata code for L(M)=a + aa*b.\n",
    "5. Write a automata code for L(M)={(ab) n | n  N}\n",
    "6. Write a automata code for Let Σ = {0, 1}.\n",
    "\n",
    "Given DFAs for {}, {ε}, Σ * , and Σ + ."
   ]
  },
  {
   "cell_type": "code",
   "execution_count": 1,
   "metadata": {},
   "outputs": [
    {
     "name": "stdout",
     "output_type": "stream",
     "text": [
      "Enter the string :0001\n",
      "Accepted\n",
      "Enter the string :1001\n",
      "Accepted\n",
      "Enter the string :1011\n",
      "Rejected\n"
     ]
    }
   ],
   "source": [
    "#1st\n",
    "from automata.fa.dfa import DFA\n",
    "dfa = DFA(\n",
    "    states={'q0', 'q1', 'q2', 'q3'},\n",
    "    input_symbols={'0', '1'},\n",
    "    transitions={\n",
    "        'q0': {'0': 'q1', '1': 'q0'},\n",
    "        'q1': {'0': 'q2', '1': 'q0'},\n",
    "        'q2': {'0': 'q2', '1': 'q3'},\n",
    "        'q3': {'0': 'q3', '1': 'q3'}\n",
    "    },\n",
    "    initial_state='q0',\n",
    "    final_states={'q3'}\n",
    ")\n",
    "for i in range(1,4):\n",
    "    num = input(\"Enter the string :\")\n",
    "    if(dfa.accepts_input(num)):\n",
    "        print(\"Accepted\")\n",
    "    else:\n",
    "        print(\"Rejected\")"
   ]
  },
  {
   "cell_type": "code",
   "execution_count": 2,
   "metadata": {},
   "outputs": [
    {
     "name": "stdout",
     "output_type": "stream",
     "text": [
      "Enter the string :1111\n",
      "Accepted\n",
      "Enter the string :0101\n",
      "Accepted\n",
      "Enter the string :1110\n",
      "Rejected\n"
     ]
    }
   ],
   "source": [
    "#2nd\n",
    "from automata.fa.dfa import DFA\n",
    "dfa = DFA(\n",
    "    states={'q0', 'q1', 'q2'},\n",
    "    input_symbols={'0', '1'},\n",
    "    transitions={\n",
    "        'q0': {'0': 'q0', '1': 'q1'},\n",
    "        'q1': {'0': 'q1', '1': 'q2'},\n",
    "        'q2': {'0': 'q2', '1': 'q1'}\n",
    "    },\n",
    "    initial_state='q0',\n",
    "    final_states={'q2'}\n",
    ")\n",
    "for i in range(1,4):\n",
    "    num = input(\"Enter the string :\")\n",
    "    if(dfa.accepts_input(num)):\n",
    "        print(\"Accepted\")\n",
    "    else:\n",
    "        print(\"Rejected\")"
   ]
  },
  {
   "cell_type": "code",
   "execution_count": 3,
   "metadata": {},
   "outputs": [
    {
     "name": "stdout",
     "output_type": "stream",
     "text": [
      "Enter the string :01\n",
      "Accepted\n",
      "Enter the string :001\n",
      "Accepted\n",
      "Enter the string :0\n",
      "Accepted\n",
      "Enter the string :0011\n",
      "Accepted\n",
      "Enter the string :1001\n",
      "Accepted\n",
      "Enter the string :011\n",
      "Accepted\n",
      "Enter the string :10011\n",
      "Accepted\n"
     ]
    }
   ],
   "source": [
    "#3rd\n",
    "from automata.fa.dfa import DFA\n",
    "dfa = DFA(\n",
    "    states={'q0'},\n",
    "    input_symbols={'0', '1'},\n",
    "    transitions={\n",
    "        'q0': {'0': 'q0', '1': 'q0'}\n",
    "    },\n",
    "    initial_state='q0',\n",
    "    final_states={'q0'}\n",
    ")\n",
    "for i in range(1,8):\n",
    "    num = input(\"Enter the string :\")\n",
    "    if(dfa.accepts_input(num)):\n",
    "        print(\"Accepted\")\n",
    "    else:\n",
    "        print(\"Rejected\")"
   ]
  },
  {
   "cell_type": "code",
   "execution_count": 4,
   "metadata": {},
   "outputs": [
    {
     "name": "stdout",
     "output_type": "stream",
     "text": [
      "Enter the string :a\n",
      "Accepted\n",
      "Enter the string :ab\n",
      "Rejected\n",
      "Enter the string :aab\n",
      "Accepted\n",
      "Enter the string :aaaab\n",
      "Accepted\n",
      "Enter the string :baaaab\n",
      "Rejected\n"
     ]
    }
   ],
   "source": [
    "#4th\n",
    "from automata.fa.dfa import DFA\n",
    "dfa = DFA(\n",
    "    states={'q0', 'q1', 'q2', 'q3', 'q4', 'q5'},\n",
    "    input_symbols={'a', 'b'},\n",
    "    transitions={\n",
    "        'q0': {'a': 'q1', 'b': 'q5'},\n",
    "        'q1': {'a': 'q2', 'b': 'q5'},\n",
    "        'q2': {'a': 'q3', 'b': 'q4'},\n",
    "        'q3': {'a': 'q2', 'b': 'q5'},\n",
    "        'q4': {'a': 'q5', 'b': 'q5'},\n",
    "        'q5': {'a': 'q5', 'b': 'q5'}\n",
    "    },\n",
    "    initial_state='q0',\n",
    "    final_states={'q1', 'q4'}\n",
    ")\n",
    "for i in range(1,6):\n",
    "    num = input(\"Enter the string :\")\n",
    "    if(dfa.accepts_input(num)):\n",
    "        print(\"Accepted\")\n",
    "    else:\n",
    "        print(\"Rejected\")"
   ]
  },
  {
   "cell_type": "code",
   "execution_count": 5,
   "metadata": {},
   "outputs": [
    {
     "name": "stdout",
     "output_type": "stream",
     "text": [
      "Enter the string :ab\n",
      "Accepted\n",
      "Enter the string :abab\n",
      "Accepted\n",
      "Enter the string :baba\n",
      "Rejected\n",
      "Enter the string :aaabbb\n",
      "Rejected\n",
      "Enter the string :ababab\n",
      "Accepted\n"
     ]
    }
   ],
   "source": [
    "#5th\n",
    "from automata.fa.dfa import DFA\n",
    "dfa = DFA(\n",
    "    states={'q0', 'q1', 'q2', 'q3'},\n",
    "    input_symbols={'a', 'b'},\n",
    "    transitions={\n",
    "        'q0': {'a': 'q1', 'b': 'q3'},\n",
    "        'q1': {'a': 'q3', 'b': 'q2'},\n",
    "        'q2': {'a': 'q1', 'b': 'q3'},\n",
    "        'q3': {'a': 'q3', 'b': 'q3'}\n",
    "    },\n",
    "    initial_state='q0',\n",
    "    final_states={'q2'}\n",
    ")\n",
    "for i in range(1,6):\n",
    "    num = input(\"Enter the string :\")\n",
    "    if(dfa.accepts_input(num)):\n",
    "        print(\"Accepted\")\n",
    "    else:\n",
    "        print(\"Rejected\")"
   ]
  },
  {
   "cell_type": "markdown",
   "metadata": {},
   "source": [
    "## 6th - 4 sections\n",
    "* { }  --  ( null set ) \n",
    "* { ε } -- Accepts only null character \n",
    "* Σ * -- accepts all combinations of ‘1’ and ‘0’ including null string \n",
    "* Σ + -- accepts all combinations of ‘1’ and ‘0’ excluding null string \n"
   ]
  },
  {
   "cell_type": "code",
   "execution_count": 6,
   "metadata": {},
   "outputs": [
    {
     "name": "stdout",
     "output_type": "stream",
     "text": [
      "Enter the string :1\n",
      "Rejected\n",
      "Enter the string :01\n",
      "Rejected\n",
      "Enter the string :\n",
      "Rejected\n",
      "Enter the string :001\n",
      "Rejected\n",
      "Enter the string :00011\n",
      "Rejected\n",
      "Enter the string :00011\n",
      "Rejected\n",
      "Enter the string :0011\n",
      "Rejected\n"
     ]
    }
   ],
   "source": [
    "#6.1\n",
    "from automata.fa.dfa import DFA\n",
    "dfa = DFA(\n",
    "    states={'q0', 'q1'},\n",
    "    input_symbols={'0', '1'},\n",
    "    transitions={\n",
    "        'q0': {'0': 'q0', '1': 'q0'},\n",
    "        'q1': {'0': 'q1', '1': 'q1'}\n",
    "    },\n",
    "    initial_state='q0',\n",
    "    final_states={'q1'}\n",
    ")\n",
    "for i in range(1,8):\n",
    "    num = input(\"Enter the string :\")\n",
    "    if(dfa.accepts_input(num)):\n",
    "        print(\"Accepted\")\n",
    "    else:\n",
    "        print(\"Rejected\")\n"
   ]
  },
  {
   "cell_type": "code",
   "execution_count": 7,
   "metadata": {},
   "outputs": [
    {
     "name": "stdout",
     "output_type": "stream",
     "text": [
      "Enter the string :00\n",
      "Rejected\n",
      "Enter the string :101\n",
      "Rejected\n",
      "Enter the string :1011\n",
      "Rejected\n",
      "Enter the string :\n",
      "Accepted\n",
      "Enter the string :100101\n",
      "Rejected\n"
     ]
    }
   ],
   "source": [
    "#6.2\n",
    "from automata.fa.dfa import DFA\n",
    "dfa = DFA(\n",
    "    states={'q0', 'q1'},\n",
    "    input_symbols={'0', '1'},\n",
    "    transitions={\n",
    "        'q0': {'0': 'q1', '1': 'q1'},\n",
    "        'q1': {'0': 'q1', '1': 'q1'}\n",
    "    },\n",
    "    initial_state='q0',\n",
    "    final_states={'q0'}\n",
    ")\n",
    "for i in range(1,6):\n",
    "    num = input(\"Enter the string :\")\n",
    "    if(dfa.accepts_input(num)):\n",
    "        print(\"Accepted\")\n",
    "    else:\n",
    "        print(\"Rejected\")"
   ]
  },
  {
   "cell_type": "code",
   "execution_count": 8,
   "metadata": {},
   "outputs": [
    {
     "name": "stdout",
     "output_type": "stream",
     "text": [
      "Enter the string :00\n",
      "Accepted\n",
      "Enter the string :011\n",
      "Accepted\n",
      "Enter the string :101\n",
      "Accepted\n",
      "Enter the string :\n",
      "Accepted\n",
      "Enter the string :11010\n",
      "Accepted\n",
      "Enter the string :1100\n",
      "Accepted\n",
      "Enter the string :001\n",
      "Accepted\n"
     ]
    }
   ],
   "source": [
    "#6.3\n",
    "from automata.fa.dfa import DFA\n",
    "dfa = DFA(\n",
    "    states={'q0'},\n",
    "    input_symbols={'0', '1'},\n",
    "    transitions={\n",
    "        'q0': {'0': 'q0', '1': 'q0'}\n",
    "    },\n",
    "    initial_state='q0',\n",
    "    final_states={'q0'}\n",
    ")\n",
    "for i in range(1,8):\n",
    "    num = input(\"Enter the string :\")\n",
    "    if(dfa.accepts_input(num)):\n",
    "        print(\"Accepted\")\n",
    "    else:\n",
    "        print(\"Rejected\")"
   ]
  },
  {
   "cell_type": "code",
   "execution_count": 9,
   "metadata": {},
   "outputs": [
    {
     "name": "stdout",
     "output_type": "stream",
     "text": [
      "Enter the string :\n",
      "Rejected\n",
      "Enter the string :01\n",
      "Accepted\n",
      "Enter the string :1001\n",
      "Accepted\n",
      "Enter the string :1101\n",
      "Accepted\n",
      "Enter the string :1111\n",
      "Accepted\n",
      "Enter the string :0\n",
      "Accepted\n",
      "Enter the string :01\n",
      "Accepted\n"
     ]
    }
   ],
   "source": [
    "#6.4\n",
    "from automata.fa.dfa import DFA\n",
    "dfa = DFA(\n",
    "    states={'q0', 'q1'},\n",
    "    input_symbols={'0', '1'},\n",
    "    transitions={\n",
    "        'q0': {'0': 'q1', '1': 'q1'},\n",
    "        'q1': {'0': 'q1', '1': 'q1'}\n",
    "    },\n",
    "    initial_state='q0',\n",
    "    final_states={'q1'}\n",
    ")\n",
    "for i in range(1,8):\n",
    "    num = input(\"Enter the string :\")\n",
    "    if(dfa.accepts_input(num)):\n",
    "        print(\"Accepted\")\n",
    "    else:\n",
    "        print(\"Rejected\")\n"
   ]
  },
  {
   "cell_type": "code",
   "execution_count": null,
   "metadata": {},
   "outputs": [],
   "source": []
  }
 ],
 "metadata": {
  "kernelspec": {
   "display_name": "Python 3",
   "language": "python",
   "name": "python3"
  },
  "language_info": {
   "codemirror_mode": {
    "name": "ipython",
    "version": 3
   },
   "file_extension": ".py",
   "mimetype": "text/x-python",
   "name": "python",
   "nbconvert_exporter": "python",
   "pygments_lexer": "ipython3",
   "version": "3.8.5"
  }
 },
 "nbformat": 4,
 "nbformat_minor": 4
}
