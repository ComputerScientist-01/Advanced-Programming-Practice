{
 "cells": [
  {
   "cell_type": "code",
   "execution_count": 1,
   "metadata": {},
   "outputs": [
    {
     "name": "stdout",
     "output_type": "stream",
     "text": [
      "Enter the string :00001\n",
      "Accepted\n",
      "Enter the string :fth\n",
      "Rejected\n",
      "Enter the string :578\n",
      "Rejected\n"
     ]
    }
   ],
   "source": [
    "from automata.fa.dfa import DFA\n",
    "dfa = DFA(\n",
    "    states={'q0', 'q1', 'q2', 'q3'},\n",
    "    input_symbols={'0', '1'},\n",
    "    transitions={\n",
    "        'q0': {'0': 'q1', '1': 'q0'},\n",
    "        'q1': {'0': 'q2', '1': 'q0'},\n",
    "        'q2': {'0': 'q2', '1': 'q3'},\n",
    "        'q3': {'0': 'q3', '1': 'q3'}\n",
    "    },\n",
    "    initial_state='q0',\n",
    "    final_states={'q3'}\n",
    ")\n",
    "for i in range(1,4):\n",
    "    num = input(\"Enter the string :\")\n",
    "    if(dfa.accepts_input(num)):\n",
    "        print(\"Accepted\")\n",
    "    else:\n",
    "        print(\"Rejected\")\n"
   ]
  },
  {
   "cell_type": "code",
   "execution_count": 3,
   "metadata": {},
   "outputs": [
    {
     "name": "stdout",
     "output_type": "stream",
     "text": [
      "Enter the string :11\n",
      "Accepted\n",
      "Enter the string :34\n",
      "Rejected\n",
      "Enter the string :231\n",
      "Rejected\n"
     ]
    }
   ],
   "source": [
    "from automata.fa.dfa import DFA\n",
    "dfa = DFA(\n",
    "    states={'q0', 'q1', 'q2'},\n",
    "    input_symbols={'0', '1'},\n",
    "    transitions={\n",
    "        'q0': {'0': 'q0', '1': 'q1'},\n",
    "        'q1': {'0': 'q1', '1': 'q2'},\n",
    "        'q2': {'0': 'q2', '1': 'q1'}\n",
    "    },\n",
    "    initial_state='q0',\n",
    "    final_states={'q2'}\n",
    ")\n",
    "for i in range(1,4):\n",
    "    num = input(\"Enter the string :\")\n",
    "    if(dfa.accepts_input(num)):\n",
    "        print(\"Accepted\")\n",
    "    else:\n",
    "        print(\"Rejected\")\n"
   ]
  },
  {
   "cell_type": "code",
   "execution_count": null,
   "metadata": {},
   "outputs": [
    {
     "name": "stdout",
     "output_type": "stream",
     "text": [
      "Enter the string :10101\n",
      "Accepted\n",
      "Enter the string :93\n",
      "Rejected\n",
      "Enter the string :01029\n",
      "Rejected\n",
      "Enter the string :365\n",
      "Rejected\n"
     ]
    }
   ],
   "source": [
    "from automata.fa.dfa import DFA \n",
    "dfa = DFA(\n",
    "    states={'q0', 'q1'},\n",
    "    input_symbols={'0', '1'},\n",
    "    transitions={\n",
    "        'q0': {'0': 'q1', '1': 'q1'},\n",
    "        'q1': {'0': 'q1', '1': 'q1'}\n",
    "    },\n",
    "    initial_state='q0',\n",
    "    final_states={'q1'}\n",
    ")\n",
    "for i in range(1,8):\n",
    "    num = input(\"Enter the string :\")\n",
    "    if(dfa.accepts_input(num)):\n",
    "        print(\"Accepted\")\n",
    "    else:\n",
    "        print(\"Rejected\")\n"
   ]
  },
  {
   "cell_type": "code",
   "execution_count": null,
   "metadata": {},
   "outputs": [
    {
     "name": "stdout",
     "output_type": "stream",
     "text": [
      "Enter the string :a\n",
      "Accepted\n",
      "Enter the string :aljsb\n",
      "Rejected\n",
      "Enter the string :aa\n",
      "Rejected\n"
     ]
    }
   ],
   "source": [
    "from automata.fa.dfa import DFA\n",
    "dfa = DFA(\n",
    "    states={'q0', 'q1', 'q2', 'q3', 'q4', 'q5'},\n",
    "    input_symbols={'a', 'b'},\n",
    "    transitions={\n",
    "        'q0': {'a': 'q1', 'b': 'q5'},\n",
    "        'q1': {'a': 'q2', 'b': 'q5'},\n",
    "        'q2': {'a': 'q3', 'b': 'q4'},\n",
    "        'q3': {'a': 'q2', 'b': 'q5'},\n",
    "        'q4': {'a': 'q5', 'b': 'q5'},\n",
    "        'q5': {'a': 'q5', 'b': 'q5'}\n",
    "    },\n",
    "    initial_state='q0',\n",
    "    final_states={'q1', 'q4'}\n",
    ")\n",
    "for i in range(1,6):\n",
    "    num = input(\"Enter the string :\")\n",
    "    if(dfa.accepts_input(num)):\n",
    "        print(\"Accepted\")\n",
    "    else:\n",
    "        print(\"Rejected\")\n"
   ]
  },
  {
   "cell_type": "code",
   "execution_count": null,
   "metadata": {},
   "outputs": [
    {
     "name": "stdout",
     "output_type": "stream",
     "text": [
      "Enter the string :abab\n",
      "Accepted\n",
      "Enter the string :ab\n",
      "Accepted\n",
      "Enter the string :abc\n",
      "Rejected\n"
     ]
    }
   ],
   "source": [
    "from automata.fa.dfa import DFA\n",
    "dfa = DFA(\n",
    "    states={'q0', 'q1', 'q2', 'q3'},\n",
    "    input_symbols={'a', 'b'},\n",
    "    transitions={\n",
    "        'q0': {'a': 'q1', 'b': 'q3'},\n",
    "        'q1': {'a': 'q3', 'b': 'q2'},\n",
    "        'q2': {'a': 'q1', 'b': 'q3'},\n",
    "        'q3': {'a': 'q3', 'b': 'q3'}\n",
    "    },\n",
    "    initial_state='q0',\n",
    "    final_states={'q2'}\n",
    ")\n",
    "for i in range(1,6):\n",
    "    num = input(\"Enter the string :\")\n",
    "    if(dfa.accepts_input(num)):\n",
    "        print(\"Accepted\")\n",
    "    else:\n",
    "        print(\"Rejected\")\n"
   ]
  },
  {
   "cell_type": "code",
   "execution_count": null,
   "metadata": {},
   "outputs": [
    {
     "name": "stdout",
     "output_type": "stream",
     "text": [
      "Enter the string :1\n",
      "Rejected\n",
      "Enter the string :0\n",
      "Rejected\n",
      "Enter the string :7\n",
      "Rejected\n",
      "Enter the string :\n",
      "Rejected\n"
     ]
    }
   ],
   "source": [
    "from automata.fa.dfa import DFA\n",
    "dfa = DFA(\n",
    "    states={'q0', 'q1'},\n",
    "    input_symbols={'0', '1'},\n",
    "    transitions={\n",
    "        'q0': {'0': 'q0', '1': 'q0'},\n",
    "        'q1': {'0': 'q1', '1': 'q1'}\n",
    "    },\n",
    "    initial_state='q0',\n",
    "    final_states={'q1'}\n",
    ")\n",
    "for i in range(1,8):\n",
    "    num = input(\"Enter the string :\")\n",
    "    if(dfa.accepts_input(num)):\n",
    "        print(\"Accepted\")\n",
    "    else:\n",
    "        print(\"Rejected\")\n"
   ]
  },
  {
   "cell_type": "code",
   "execution_count": null,
   "metadata": {},
   "outputs": [
    {
     "name": "stdout",
     "output_type": "stream",
     "text": [
      "Enter the string :\n",
      "Accepted\n",
      "Enter the string :465\n",
      "Rejected\n",
      "Enter the string :56\n",
      "Rejected\n"
     ]
    }
   ],
   "source": [
    "from automata.fa.dfa import DFA\n",
    "dfa = DFA(\n",
    "    states={'q0', 'q1'},\n",
    "    input_symbols={'0', '1'},\n",
    "    transitions={\n",
    "        'q0': {'0': 'q1', '1': 'q1'},\n",
    "        'q1': {'0': 'q1', '1': 'q1'}\n",
    "    },\n",
    "    initial_state='q0',\n",
    "    final_states={'q0'}\n",
    ")\n",
    "for i in range(1,6):\n",
    "    num = input(\"Enter the string :\")\n",
    "    if(dfa.accepts_input(num)):\n",
    "        print(\"Accepted\")\n",
    "    else:\n",
    "        print(\"Rejected\")\n"
   ]
  },
  {
   "cell_type": "code",
   "execution_count": null,
   "metadata": {},
   "outputs": [
    {
     "name": "stdout",
     "output_type": "stream",
     "text": [
      "Enter the string :101001\n",
      "Accepted\n",
      "Enter the string :01012\n",
      "Rejected\n",
      "Enter the string :0\n",
      "Accepted\n",
      "Enter the string :\n",
      "Accepted\n"
     ]
    }
   ],
   "source": [
    "from automata.fa.dfa import DFA\n",
    "# DFA which does not accept any input\n",
    "dfa = DFA(\n",
    "    states={'q0'},\n",
    "    input_symbols={'0', '1'},\n",
    "    transitions={\n",
    "        'q0': {'0': 'q0', '1': 'q0'}\n",
    "    },\n",
    "    initial_state='q0',\n",
    "    final_states={'q0'}\n",
    ")\n",
    "for i in range(1,8):\n",
    "    num = input(\"Enter the string :\")\n",
    "    if(dfa.accepts_input(num)):\n",
    "        print(\"Accepted\")\n",
    "    else:\n",
    "        print(\"Rejected\")\n"
   ]
  },
  {
   "cell_type": "code",
   "execution_count": null,
   "metadata": {},
   "outputs": [
    {
     "name": "stdout",
     "output_type": "stream",
     "text": [
      "Enter the string :101\n",
      "Accepted\n",
      "Enter the string :\n",
      "Rejected\n",
      "Enter the string :0\n",
      "Accepted\n",
      "Enter the string :102\n",
      "Rejected\n"
     ]
    }
   ],
   "source": [
    "from automata.fa.dfa import DFA\n",
    "# DFA which does not accept any input\n",
    "dfa = DFA(\n",
    "    states={'q0', 'q1'},\n",
    "    input_symbols={'0', '1'},\n",
    "    transitions={\n",
    "        'q0': {'0': 'q1', '1': 'q1'},\n",
    "        'q1': {'0': 'q1', '1': 'q1'}\n",
    "    },\n",
    "    initial_state='q0',\n",
    "    final_states={'q1'}\n",
    ")\n",
    "for i in range(1,8):\n",
    "    num = input(\"Enter the string :\")\n",
    "    if(dfa.accepts_input(num)):\n",
    "        print(\"Accepted\")\n",
    "    else:\n",
    "        print(\"Rejected\")\n"
   ]
  },
  {
   "cell_type": "code",
   "execution_count": 2,
   "metadata": {},
   "outputs": [
    {
     "name": "stdout",
     "output_type": "stream",
     "text": [
      "Enter the string :7234\n",
      "Rejected\n",
      "Enter the string :734\n",
      "Rejected\n",
      "Enter the string :01\n",
      "Accepted\n"
     ]
    }
   ],
   "source": [
    "from automata.fa.nfa import NFA\n",
    "# NFA which accepts strings that ends with '01'\n",
    "nfa = NFA(\n",
    "    states={'q0', 'q1', 'q2'},\n",
    "    input_symbols={'0', '1'},\n",
    "    transitions={\n",
    "        'q0': {'0': {'q1','q0'}, '1': {'q0'}},\n",
    "        'q1': {'1': {'q2'}},\n",
    "        'q2': {}\n",
    "    },\n",
    "    initial_state='q0',\n",
    "    final_states={'q2'}\n",
    ")\n",
    "for i in range(1,4):\n",
    "    num = input(\"Enter the string :\")\n",
    "    if(nfa.accepts_input(num)):\n",
    "        print(\"Accepted\")\n",
    "    else:\n",
    "        print(\"Rejected\")\n"
   ]
  },
  {
   "cell_type": "code",
   "execution_count": null,
   "metadata": {},
   "outputs": [
    {
     "name": "stdout",
     "output_type": "stream",
     "text": [
      "Enter the string :a\n",
      "Accepted\n",
      "Enter the string :as\n",
      "Rejected\n",
      "Enter the string :ab\n",
      "Accepted\n"
     ]
    }
   ],
   "source": [
    "from automata.fa.nfa import NFA\n",
    "# NFA which accepts strings that ends with '01'\n",
    "nfa = NFA(\n",
    "    states={'q0', 'q1', 'q2', 'q3', 'q4'},\n",
    "    input_symbols={'a', 'b'},\n",
    "    transitions={\n",
    "        'q0': {'a': {'q1','q2'}},\n",
    "        'q1': {'a': {'q2','q4'}, 'b': {'q4'}},\n",
    "        'q2': {'a': {'q2'}, 'b': {'q3'}},\n",
    "        'q3': {},\n",
    "        'q4': {}\n",
    "    },\n",
    "    initial_state='q0',\n",
    "    final_states={'q1','q3'}\n",
    ")\n",
    "for i in range(1,6):\n",
    "    num = input(\"Enter the string :\")\n",
    "    if(nfa.accepts_input(num)):\n",
    "        print(\"Accepted\")\n",
    "    else:\n",
    "        print(\"Rejected\")\n"
   ]
  },
  {
   "cell_type": "code",
   "execution_count": null,
   "metadata": {},
   "outputs": [
    {
     "name": "stdout",
     "output_type": "stream",
     "text": [
      "Enter the string :ab\n",
      "Accepted\n",
      "Enter the string :abab\n",
      "Accepted\n",
      "Enter the string :abababd\n",
      "Rejected\n"
     ]
    }
   ],
   "source": [
    "from automata.fa.nfa import NFA\n",
    "# NFA which accepts strings that ends with '01'\n",
    "nfa = NFA(\n",
    "    states={'q0', 'q1', 'q2'},\n",
    "    input_symbols={'a', 'b'},\n",
    "    transitions={\n",
    "        'q0': {'a': {'q1'}},\n",
    "        'q1': {'b': {'q0', 'q2'}},\n",
    "        'q2': {}\n",
    "    },\n",
    "    initial_state='q0',\n",
    "    final_states={'q2'}\n",
    ")\n",
    "for i in range(1,8):\n",
    "    num = input(\"Enter the string :\")\n",
    "    if(nfa.accepts_input(num)):\n",
    "        print(\"Accepted\")\n",
    "    else:\n",
    "        print(\"Rejected\")\n"
   ]
  },
  {
   "cell_type": "code",
   "execution_count": null,
   "metadata": {},
   "outputs": [],
   "source": []
  }
 ],
 "metadata": {
  "kernelspec": {
   "display_name": "Python 3",
   "language": "python",
   "name": "python3"
  },
  "language_info": {
   "codemirror_mode": {
    "name": "ipython",
    "version": 3
   },
   "file_extension": ".py",
   "mimetype": "text/x-python",
   "name": "python",
   "nbconvert_exporter": "python",
   "pygments_lexer": "ipython3",
   "version": "3.8.5"
  }
 },
 "nbformat": 4,
 "nbformat_minor": 4
}
