{
 "cells": [
  {
   "cell_type": "markdown",
   "metadata": {},
   "source": [
    "# NFA PROGRAMS:\n",
    "1. Write a automata code for the Language that accepts all end with 01\n",
    "2. Write a automata code for L(M)= a + aa*b + a*b.\n",
    "3. Write a automata code for Let Σ = {0, 1}.\n",
    "\n",
    "  Given NFAs for {}, {ε}, {(ab) n | n  N}, which has regular expression (ab)*."
   ]
  },
  {
   "cell_type": "code",
   "execution_count": 4,
   "metadata": {},
   "outputs": [
    {
     "name": "stdout",
     "output_type": "stream",
     "text": [
      "Enter the string :0101\n",
      "Accepted\n",
      "Enter the string :0001\n",
      "Accepted\n",
      "Enter the string :0111\n",
      "Rejected\n"
     ]
    }
   ],
   "source": [
    "from automata.fa.nfa import NFA\n",
    "nfa = NFA(\n",
    "    states={'q0', 'q1', 'q2'},\n",
    "    input_symbols={'0', '1'},\n",
    "    transitions={\n",
    "        'q0': {'0': {'q1','q0'}, '1': {'q0'}},\n",
    "        'q1': {'1': {'q2'}},\n",
    "        'q2': {}\n",
    "    },\n",
    "    initial_state='q0',\n",
    "    final_states={'q2'}\n",
    ")\n",
    "for i in range(1,4):\n",
    "    num = input(\"Enter the string :\")\n",
    "    if(nfa.accepts_input(num)):\n",
    "        print(\"Accepted\")\n",
    "    else:\n",
    "        print(\"Rejected\")\n"
   ]
  },
  {
   "cell_type": "code",
   "execution_count": 2,
   "metadata": {},
   "outputs": [
    {
     "name": "stdout",
     "output_type": "stream",
     "text": [
      "Enter the string :a\n",
      "Accepted\n",
      "Enter the string :ab\n",
      "Accepted\n",
      "Enter the string :aab\n",
      "Accepted\n",
      "Enter the string :abab\n",
      "Rejected\n",
      "Enter the string :aaa\n",
      "Rejected\n"
     ]
    }
   ],
   "source": [
    "from automata.fa.nfa import NFA\n",
    "nfa = NFA(\n",
    "    states={'q0', 'q1', 'q2', 'q3', 'q4'},\n",
    "    input_symbols={'a', 'b'},\n",
    "    transitions={\n",
    "        'q0': {'a': {'q1','q2'}},\n",
    "        'q1': {'a': {'q2','q4'}, 'b': {'q4'}},\n",
    "        'q2': {'a': {'q2'}, 'b': {'q3'}},\n",
    "        'q3': {},\n",
    "        'q4': {}\n",
    "    },\n",
    "    initial_state='q0',\n",
    "    final_states={'q1','q3'}\n",
    ")\n",
    "for i in range(1,6):\n",
    "    num = input(\"Enter the string :\")\n",
    "    if(nfa.accepts_input(num)):\n",
    "        print(\"Accepted\")\n",
    "    else:\n",
    "        print(\"Rejected\")\n"
   ]
  },
  {
   "cell_type": "code",
   "execution_count": 3,
   "metadata": {},
   "outputs": [
    {
     "name": "stdout",
     "output_type": "stream",
     "text": [
      "Enter the string :ab\n",
      "Accepted\n",
      "Enter the string :abab\n",
      "Accepted\n",
      "Enter the string :ababab\n",
      "Accepted\n",
      "Enter the string :aabb\n",
      "Rejected\n",
      "Enter the string :aaa\n",
      "Rejected\n",
      "Enter the string :baba\n",
      "Rejected\n",
      "Enter the string :aba\n",
      "Rejected\n"
     ]
    }
   ],
   "source": [
    "from automata.fa.nfa import NFA\n",
    "nfa = NFA(\n",
    "    states={'q0', 'q1', 'q2'},\n",
    "    input_symbols={'a', 'b'},\n",
    "    transitions={\n",
    "        'q0': {'a': {'q1'}},\n",
    "        'q1': {'b': {'q0', 'q2'}},\n",
    "        'q2': {}\n",
    "    },\n",
    "    initial_state='q0',\n",
    "    final_states={'q2'}\n",
    ")\n",
    "for i in range(1,8):\n",
    "    num = input(\"Enter the string :\")\n",
    "    if(nfa.accepts_input(num)):\n",
    "        print(\"Accepted\")\n",
    "    else:\n",
    "        print(\"Rejected\")\n"
   ]
  },
  {
   "cell_type": "code",
   "execution_count": null,
   "metadata": {},
   "outputs": [],
   "source": []
  }
 ],
 "metadata": {
  "kernelspec": {
   "display_name": "Python 3",
   "language": "python",
   "name": "python3"
  },
  "language_info": {
   "codemirror_mode": {
    "name": "ipython",
    "version": 3
   },
   "file_extension": ".py",
   "mimetype": "text/x-python",
   "name": "python",
   "nbconvert_exporter": "python",
   "pygments_lexer": "ipython3",
   "version": "3.8.5"
  }
 },
 "nbformat": 4,
 "nbformat_minor": 4
}
